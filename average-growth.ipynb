{
 "cells": [
  {
   "cell_type": "code",
   "execution_count": 5,
   "metadata": {},
   "outputs": [
    {
     "name": "stdout",
     "output_type": "stream",
     "text": [
      "Requirement already satisfied: pymongo in /opt/conda/envs/python2/lib/python2.7/site-packages\n",
      "Requirement already satisfied: boto3 in /opt/conda/envs/python2/lib/python2.7/site-packages\n",
      "Requirement already satisfied: botocore<1.6.0,>=1.5.0 in /opt/conda/envs/python2/lib/python2.7/site-packages (from boto3)\n",
      "Requirement already satisfied: jmespath<1.0.0,>=0.7.1 in /opt/conda/envs/python2/lib/python2.7/site-packages (from boto3)\n",
      "Requirement already satisfied: s3transfer<0.2.0,>=0.1.10 in /opt/conda/envs/python2/lib/python2.7/site-packages (from boto3)\n",
      "Requirement already satisfied: python-dateutil<3.0.0,>=2.1 in /opt/conda/envs/python2/lib/python2.7/site-packages (from botocore<1.6.0,>=1.5.0->boto3)\n",
      "Requirement already satisfied: docutils>=0.10 in /opt/conda/envs/python2/lib/python2.7/site-packages (from botocore<1.6.0,>=1.5.0->boto3)\n",
      "Requirement already satisfied: futures<4.0.0,>=2.2.0 in /opt/conda/envs/python2/lib/python2.7/site-packages (from s3transfer<0.2.0,>=0.1.10->boto3)\n",
      "Requirement already satisfied: six>=1.5 in /opt/conda/envs/python2/lib/python2.7/site-packages (from python-dateutil<3.0.0,>=2.1->botocore<1.6.0,>=1.5.0->boto3)\n"
     ]
    }
   ],
   "source": [
    "!pip install pymongo\n",
    "!pip install boto3"
   ]
  },
  {
   "cell_type": "code",
   "execution_count": 3,
   "metadata": {
    "collapsed": true
   },
   "outputs": [],
   "source": [
    "from pymongo import MongoClient\n",
    "db = MongoClient(\"ec2-54-171-247-111.eu-west-1.compute.amazonaws.com:27017\").inequality"
   ]
  },
  {
   "cell_type": "code",
   "execution_count": 78,
   "metadata": {
    "collapsed": true
   },
   "outputs": [],
   "source": [
    "import boto3\n",
    "import pandas as pd\n",
    "s3 = boto3.resource('s3')\n",
    "client = boto3.client('s3')\n",
    "\n",
    "def make_key(stat, part):\n",
    "    file = stat.lower()+'_part_'+str(part)+'.csv'\n",
    "    key = \"01_inequality/04_Zonnal_Stats/\"+stat+\"/\"+file\n",
    "    return key\n",
    "\n",
    "def get_csv(stat, part):\n",
    "    client = boto3.client('s3')\n",
    "    key = make_key(stat, part)\n",
    "    obj = client.get_object(Bucket = \"inequality-upf-cleaned-intersections\", Key = key)\n",
    "    return pd.read_csv(obj.get('Body'))\n",
    "\n",
    "def get_obs(stat, part, obs):\n",
    "    df = get_csv(stat, part)\n",
    "    return df[df.obs == obs]\n",
    "\n",
    "def get_parts(pop_part, pop_obs, nl_part, nl_obs):\n",
    "    return pd.concat([get_obs(\"Pop\", pop_part, pop_obs), get_obs(\"Night\", nl_part, nl_obs)], axis=0)\n"
   ]
  },
  {
   "cell_type": "code",
   "execution_count": 83,
   "metadata": {},
   "outputs": [
    {
     "data": {
      "text/html": [
       "<div>\n",
       "<table border=\"1\" class=\"dataframe\">\n",
       "  <thead>\n",
       "    <tr style=\"text-align: right;\">\n",
       "      <th></th>\n",
       "      <th>obs</th>\n",
       "      <th>pop2000_sum</th>\n",
       "      <th>pop2000_mean</th>\n",
       "      <th>pop2001_sum</th>\n",
       "      <th>pop2001_mean</th>\n",
       "      <th>pop2002_sum</th>\n",
       "      <th>pop2002_mean</th>\n",
       "      <th>pop2003_sum</th>\n",
       "      <th>pop2003_mean</th>\n",
       "      <th>pop2004_sum</th>\n",
       "      <th>...</th>\n",
       "      <th>pop2010_mean</th>\n",
       "      <th>pop2011_sum</th>\n",
       "      <th>pop2011_mean</th>\n",
       "      <th>pop2012_sum</th>\n",
       "      <th>pop2012_mean</th>\n",
       "      <th>pop2013_sum</th>\n",
       "      <th>pop2013_mean</th>\n",
       "      <th>pop2014_sum</th>\n",
       "      <th>pop2014_mean</th>\n",
       "      <th>part</th>\n",
       "    </tr>\n",
       "  </thead>\n",
       "  <tbody>\n",
       "    <tr>\n",
       "      <th>109</th>\n",
       "      <td>9</td>\n",
       "      <td>0.0</td>\n",
       "      <td>0.0</td>\n",
       "      <td>0.0</td>\n",
       "      <td>0.0</td>\n",
       "      <td>0.0</td>\n",
       "      <td>0.0</td>\n",
       "      <td>0.0</td>\n",
       "      <td>0.0</td>\n",
       "      <td>0.0</td>\n",
       "      <td>...</td>\n",
       "      <td>0.0</td>\n",
       "      <td>0.0</td>\n",
       "      <td>0.0</td>\n",
       "      <td>0.0</td>\n",
       "      <td>0.0</td>\n",
       "      <td>0.0</td>\n",
       "      <td>0.0</td>\n",
       "      <td>0.0</td>\n",
       "      <td>0.0</td>\n",
       "      <td>143</td>\n",
       "    </tr>\n",
       "  </tbody>\n",
       "</table>\n",
       "<p>1 rows × 32 columns</p>\n",
       "</div>"
      ],
      "text/plain": [
       "     obs  pop2000_sum  pop2000_mean  pop2001_sum  pop2001_mean  pop2002_sum  \\\n",
       "109    9          0.0           0.0          0.0           0.0          0.0   \n",
       "\n",
       "     pop2002_mean  pop2003_sum  pop2003_mean  pop2004_sum  ...   pop2010_mean  \\\n",
       "109           0.0          0.0           0.0          0.0  ...            0.0   \n",
       "\n",
       "     pop2011_sum  pop2011_mean  pop2012_sum  pop2012_mean  pop2013_sum  \\\n",
       "109          0.0           0.0          0.0           0.0          0.0   \n",
       "\n",
       "     pop2013_mean  pop2014_sum  pop2014_mean  part  \n",
       "109           0.0          0.0           0.0   143  \n",
       "\n",
       "[1 rows x 32 columns]"
      ]
     },
     "execution_count": 83,
     "metadata": {},
     "output_type": "execute_result"
    }
   ],
   "source": [
    "get_obs(\"Pop\", 143, 9)"
   ]
  },
  {
   "cell_type": "code",
   "execution_count": 275,
   "metadata": {
    "collapsed": true
   },
   "outputs": [],
   "source": [
    "def get_from_geo(g, fields, coll):\n",
    "    return coll.find({ 'geometry': {'$geoWithin': { '$geometry': g }}}, \n",
    "                        fields)\n",
    "\n",
    "def get_region(region, fields, coll = 'etl'):\n",
    "    g = db.regions.find_one({'obs': region})['geometry']\n",
    "    return get_from_geo(g, fields, db[coll])\n",
    "\n",
    "def get_country(code, fields, coll = 'etl'):\n",
    "    g = db.countries.find_one({'ADM0_CODE': code})['geometry']\n",
    "    return get_from_geo(g, fields, db[coll])"
   ]
  },
  {
   "cell_type": "code",
   "execution_count": 282,
   "metadata": {
    "collapsed": true
   },
   "outputs": [],
   "source": [
    "import math\n",
    "\n",
    "def cast(n):\n",
    "    return 0 if (math.isnan(n) or math.isinf(n)) else n\n",
    "\n",
    "def growth(y_t, y_prev):\n",
    "    try:\n",
    "        return (y_t**2)/float(y_prev) if y_t else 0 # 0 if y_t is 0\n",
    "    except ZeroDivisionError:\n",
    "        return y_t**2/.1 # infinite growth, how do we handle it????\n",
    "\n",
    "def reducer(a, b):\n",
    "    curr, prev = b\n",
    "    running_growth, total = a\n",
    "    return (running_growth + growth(cast(curr), cast(prev)), total + cast(curr))\n",
    "\n",
    "def collector(l):\n",
    "    return reduce(reducer, l, (0,0))\n",
    "\n",
    "def average_growth(l):\n",
    "    summed_growth, total = collector(l)\n",
    "    try:\n",
    "        return math.log(summed_growth / total)\n",
    "    except ZeroDivisionError:\n",
    "        return 0"
   ]
  },
  {
   "cell_type": "code",
   "execution_count": 290,
   "metadata": {},
   "outputs": [],
   "source": [
    "import time\n",
    "\n",
    "def calc_country_growth(country_code, name):\n",
    "    cursor = get_country(country_code, {'gini13_F18': 1, 'gini12_F18': 1}) \n",
    "    ginis = ((d['gini13_F18'], d['gini12_F18']) for d in cursor)\n",
    "    start = time.time()\n",
    "    results = average_growth(ginis)\n",
    "    end = time.time()\n",
    "    print \"GROWTH OF \"+name+\": \"+str(results)+\" calculated in \"+str(end-start)+\"ms\"\n",
    "    return results"
   ]
  },
  {
   "cell_type": "code",
   "execution_count": 291,
   "metadata": {},
   "outputs": [
    {
     "name": "stdout",
     "output_type": "stream",
     "text": [
      "GROWTH OF Puerto Rico: 0.206117015187 calculated in 17.7195289135ms\n"
     ]
    }
   ],
   "source": [
    "puerto_rico = calc_country_growth(200, \"Puerto Rico\") # 0.75"
   ]
  },
  {
   "cell_type": "code",
   "execution_count": 296,
   "metadata": {},
   "outputs": [
    {
     "name": "stdout",
     "output_type": "stream",
     "text": [
      "GROWTH OF Rwanda: 0.530988487788 calculated in 78.9824380875ms\n"
     ]
    }
   ],
   "source": [
    "rwanda = calc_country_growth(205, \"Rwanda\") #2.05"
   ]
  },
  {
   "cell_type": "code",
   "execution_count": 292,
   "metadata": {},
   "outputs": [
    {
     "name": "stdout",
     "output_type": "stream",
     "text": [
      "GROWTH OF Haiti: 0.309481163613 calculated in 84.6391928196ms\n"
     ]
    }
   ],
   "source": [
    "haiti = calc_country_growth(108, \"Haiti\") # 2.23"
   ]
  },
  {
   "cell_type": "code",
   "execution_count": 295,
   "metadata": {},
   "outputs": [
    {
     "name": "stdout",
     "output_type": "stream",
     "text": [
      "GROWTH OF Denmark: 0.0436170105035 calculated in 157.00563097ms\n"
     ]
    }
   ],
   "source": [
    "denmark = calc_country_growth(69, \"Denmark\") #4.39"
   ]
  },
  {
   "cell_type": "code",
   "execution_count": 293,
   "metadata": {
    "scrolled": true
   },
   "outputs": [
    {
     "name": "stdout",
     "output_type": "stream",
     "text": [
      "GROWTH OF Switzerland: 0.120637366927 calculated in 240.009339809ms\n"
     ]
    }
   ],
   "source": [
    "switzerland = calc_country_growth(237, \"Switzerland\") #4.86"
   ]
  },
  {
   "cell_type": "code",
   "execution_count": 297,
   "metadata": {},
   "outputs": [
    {
     "name": "stdout",
     "output_type": "stream",
     "text": [
      "GROWTH OF Cuba: 0.316066194441 calculated in 328.703745842ms\n"
     ]
    }
   ],
   "source": [
    "cuba = calc_country_growth(63, \"Cuba\") # 9.3"
   ]
  },
  {
   "cell_type": "code",
   "execution_count": 294,
   "metadata": {},
   "outputs": [
    {
     "name": "stdout",
     "output_type": "stream",
     "text": [
      "GROWTH OF North Korea: 0.561598206791 calculated in 571.456528902ms\n"
     ]
    }
   ],
   "source": [
    "north_korea = calc_country_growth(67, \"North Korea\") # 12.92"
   ]
  },
  {
   "cell_type": "code",
   "execution_count": null,
   "metadata": {
    "collapsed": true
   },
   "outputs": [],
   "source": [
    "japan = calc_country_growth(126, \"Japan\") # 23.01"
   ]
  }
 ],
 "metadata": {
  "kernelspec": {
   "display_name": "Python 2",
   "language": "python",
   "name": "python2"
  },
  "language_info": {
   "codemirror_mode": {
    "name": "ipython",
    "version": 2
   },
   "file_extension": ".py",
   "mimetype": "text/x-python",
   "name": "python",
   "nbconvert_exporter": "python",
   "pygments_lexer": "ipython2",
   "version": "2.7.13"
  }
 },
 "nbformat": 4,
 "nbformat_minor": 2
}
